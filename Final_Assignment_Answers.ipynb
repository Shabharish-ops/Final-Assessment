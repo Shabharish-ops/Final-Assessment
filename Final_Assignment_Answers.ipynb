{
 "cells": [
  {
   "cell_type": "markdown",
   "id": "623b06fe",
   "metadata": {},
   "source": [
    "## Question 1 - Extracting Tesla Stock Data Using yfinance (2 Points)"
   ]
  },
  {
   "cell_type": "code",
   "execution_count": null,
   "id": "4ed0f5f2",
   "metadata": {},
   "outputs": [],
   "source": [
    "\n",
    "import yfinance as yf\n",
    "import pandas as pd\n",
    "\n",
    "# Download Tesla stock data\n",
    "tesla_data = yf.download('TSLA', start='2010-01-01', end='2025-10-31')\n",
    "\n",
    "# Display first 5 rows\n",
    "tesla_data.head()\n"
   ]
  },
  {
   "cell_type": "markdown",
   "id": "cddb3760",
   "metadata": {},
   "source": [
    "## Question 2 - Extracting Tesla Revenue Data Using Webscraping (1 Point)"
   ]
  },
  {
   "cell_type": "code",
   "execution_count": null,
   "id": "2844f4cc",
   "metadata": {},
   "outputs": [],
   "source": [
    "\n",
    "import requests\n",
    "from bs4 import BeautifulSoup\n",
    "\n",
    "# URL for Tesla quarterly revenue data from Macrotrends\n",
    "url = \"https://www.macrotrends.net/stocks/charts/TSLA/tesla/revenue\"\n",
    "\n",
    "html_data = requests.get(url).text\n",
    "soup = BeautifulSoup(html_data, \"html.parser\")\n",
    "\n",
    "# Extract the revenue table\n",
    "tables = soup.find_all(\"table\")\n",
    "tesla_revenue = pd.read_html(str(tables[0]))[0]\n",
    "\n",
    "# Clean the data\n",
    "tesla_revenue.columns = [\"Date\", \"Revenue\"]\n",
    "tesla_revenue[\"Revenue\"] = tesla_revenue[\"Revenue\"].str.replace(r\"[\\$,]\", \"\", regex=True)\n",
    "tesla_revenue = tesla_revenue[tesla_revenue[\"Revenue\"] != \"\"]\n",
    "tesla_revenue.tail()\n"
   ]
  },
  {
   "cell_type": "markdown",
   "id": "eafae1d2",
   "metadata": {},
   "source": [
    "## Question 3 - Extracting GameStop Stock Data Using yfinance (2 Points)"
   ]
  },
  {
   "cell_type": "code",
   "execution_count": null,
   "id": "8ac45c46",
   "metadata": {},
   "outputs": [],
   "source": [
    "\n",
    "# Download GameStop stock data\n",
    "gme_data = yf.download('GME', start='2010-01-01', end='2025-10-31')\n",
    "\n",
    "# Display first 5 rows\n",
    "gme_data.head()\n"
   ]
  },
  {
   "cell_type": "markdown",
   "id": "69dce574",
   "metadata": {},
   "source": [
    "## Question 4 - Extracting GameStop Revenue Data Using Webscraping (1 Point)"
   ]
  },
  {
   "cell_type": "code",
   "execution_count": null,
   "id": "485f25ad",
   "metadata": {},
   "outputs": [],
   "source": [
    "\n",
    "# URL for GameStop quarterly revenue data\n",
    "url = \"https://www.macrotrends.net/stocks/charts/GME/gamestop/revenue\"\n",
    "\n",
    "html_data = requests.get(url).text\n",
    "soup = BeautifulSoup(html_data, \"html.parser\")\n",
    "\n",
    "tables = soup.find_all(\"table\")\n",
    "gme_revenue = pd.read_html(str(tables[0]))[0]\n",
    "\n",
    "# Clean the data\n",
    "gme_revenue.columns = [\"Date\", \"Revenue\"]\n",
    "gme_revenue[\"Revenue\"] = gme_revenue[\"Revenue\"].str.replace(r\"[\\$,]\", \"\", regex=True)\n",
    "gme_revenue = gme_revenue[gme_revenue[\"Revenue\"] != \"\"]\n",
    "gme_revenue.tail()\n"
   ]
  },
  {
   "cell_type": "markdown",
   "id": "02195dff",
   "metadata": {},
   "source": [
    "## Question 5 - Tesla Stock and Revenue Dashboard (2 Points)"
   ]
  },
  {
   "cell_type": "code",
   "execution_count": null,
   "id": "76a4415d",
   "metadata": {},
   "outputs": [],
   "source": [
    "\n",
    "import plotly.graph_objects as go\n",
    "from plotly.subplots import make_subplots\n",
    "\n",
    "# Create subplots for Tesla\n",
    "fig = make_subplots(rows=2, cols=1, shared_xaxes=True,\n",
    "                    subplot_titles=(\"Tesla Stock Price\", \"Tesla Quarterly Revenue\"),\n",
    "                    vertical_spacing=0.2)\n",
    "\n",
    "# Stock line\n",
    "fig.add_trace(go.Scatter(x=tesla_data.index, y=tesla_data[\"Close\"],\n",
    "                         name=\"Tesla Stock Price\"), row=1, col=1)\n",
    "\n",
    "# Revenue line\n",
    "fig.add_trace(go.Scatter(x=pd.to_datetime(tesla_revenue[\"Date\"]),\n",
    "                         y=tesla_revenue[\"Revenue\"].astype(float),\n",
    "                         name=\"Tesla Revenue\"), row=2, col=1)\n",
    "\n",
    "fig.update_layout(title_text=\"Tesla Stock Price and Revenue Dashboard\",\n",
    "                  height=800)\n",
    "fig.show()\n"
   ]
  },
  {
   "cell_type": "markdown",
   "id": "601a14ba",
   "metadata": {},
   "source": [
    "## Question 6 - GameStop Stock and Revenue Dashboard (2 Points)"
   ]
  },
  {
   "cell_type": "code",
   "execution_count": null,
   "id": "2db68e41",
   "metadata": {},
   "outputs": [],
   "source": [
    "\n",
    "# Create subplots for GameStop\n",
    "fig = make_subplots(rows=2, cols=1, shared_xaxes=True,\n",
    "                    subplot_titles=(\"GameStop Stock Price\", \"GameStop Quarterly Revenue\"),\n",
    "                    vertical_spacing=0.2)\n",
    "\n",
    "# Stock line\n",
    "fig.add_trace(go.Scatter(x=gme_data.index, y=gme_data[\"Close\"],\n",
    "                         name=\"GameStop Stock Price\"), row=1, col=1)\n",
    "\n",
    "# Revenue line\n",
    "fig.add_trace(go.Scatter(x=pd.to_datetime(gme_revenue[\"Date\"]),\n",
    "                         y=gme_revenue[\"Revenue\"].astype(float),\n",
    "                         name=\"GameStop Revenue\"), row=2, col=1)\n",
    "\n",
    "fig.update_layout(title_text=\"GameStop Stock Price and Revenue Dashboard\",\n",
    "                  height=800)\n",
    "fig.show()\n"
   ]
  },
  {
   "cell_type": "markdown",
   "id": "afef0b38",
   "metadata": {},
   "source": [
    "## Question 7 - Sharing your Assignment Notebook (2 Points)"
   ]
  },
  {
   "cell_type": "markdown",
   "id": "4078e496",
   "metadata": {},
   "source": [
    "\n",
    "When finished:\n",
    "1. Save your notebook as **`Final Assignment.ipynb`**.\n",
    "2. Upload it to Coursera using the **Submit Assignment** button.\n",
    "3. If asked for a public link, you can share it via **GitHub** or **Google Drive**.\n"
   ]
  }
 ],
 "metadata": {},
 "nbformat": 4,
 "nbformat_minor": 5
}
